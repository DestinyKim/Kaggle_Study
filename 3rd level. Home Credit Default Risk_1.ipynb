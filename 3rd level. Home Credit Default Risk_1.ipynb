{
 "cells": [
  {
   "cell_type": "markdown",
   "id": "da224dce",
   "metadata": {},
   "source": [
    "<img src = \"https://imgur.com/9C8gmgY.jpg\">"
   ]
  },
  {
   "cell_type": "markdown",
   "id": "8bce9ab1",
   "metadata": {},
   "source": [
    "* Home Credit은 통신 및 거래 정보를 포함한 다양한 대체 데이터를 사용하여 고객의 상환 능력을 예측"
   ]
  },
  {
   "cell_type": "markdown",
   "id": "10fb8ba8",
   "metadata": {},
   "source": [
    "# Start Here: A Gentle Introduction\n",
    "[참조] https://www.kaggle.com/code/willkoehrsen/start-here-a-gentle-introduction/notebook"
   ]
  },
  {
   "cell_type": "markdown",
   "id": "97980b80",
   "metadata": {},
   "source": [
    "## 데이터 설명\n",
    "\n",
    "* application_{train|test}.csv\n",
    "\n",
    "    * 이것은 Train(TARGET 포함) 및 Test(TARGET 제외)에 대한 두 개의 파일로 분할된 기본 테이블\n",
    "    * 모든 애플리케이션에 대한 정적 데이터. 하나의 행은 데이터 샘플에서 하나의 대출을 나타냄\n",
    "\n",
    "* bureau.csv\n",
    "\n",
    "     * Credit Bureau에 보고된 다른 금융 기관에서 제공한 모든 고객의 이전 신용(당사 샘플에 대출이 있는 고객의 경우)\n",
    "    * 샘플의 모든 대출에 대해 신청 날짜 이전에 고객이 신용 조사국에 보유한 신용 수만큼 행이 존재\n",
    "\n",
    "* Bureau_balance.csv\n",
    "\n",
    "    * Credit Bureau의 이전 크레딧의 월간 잔액\n",
    "    * 이 테이블에는 신용 조사 기관에 보고된 모든 이전 신용 기록의 각 월에 대한 행이 하나 존재\n",
    "\n",
    "* POS_CASH_balance.csv\n",
    "\n",
    "    * 이전 POS(판매 시점) 및 신청자가 홈 크레딧으로 보유한 현금 대출의 월간 잔액 스냅샷\n",
    "    * 이 테이블에는 샘플의 대출과 관련된 주택 신용(소비자 신용 및 현금 대출)의 모든 이전 신용 기록의 각 월에 대한 행이 하나씩 존재 - 이전 크레딧) 행에 대해 관찰할 수 있는 일부 기록이 존재\n",
    "    \n",
    "* credit_card_balance.csv\n",
    "\n",
    "    * 신청자가 홈 크레딧을 가지고 있는 이전 신용 카드의 월간 잔액 스냅샷\n",
    "    * 이 테이블에는 샘플의 대출과 관련된 주택 신용(소비자 신용 및 현금 대출)의 모든 이전 신용 기록에 대한 월별 행이 존재 - 이전 신용 카드) 행에 대해 일부 기록을 관찰할 수 있는 달\n",
    "    \n",
    "* previous_application.csv\n",
    "    \n",
    "    * 우리 샘플에 대출이 있는 고객의 주택 신용 대출에 대한 모든 이전 애플리케이션\n",
    "    * 데이터 샘플의 대출과 관련된 각 이전 애플리케이션에 대해 하나의 행이 존재\n",
    "\n",
    "* installments_payments.csv\n",
    "\n",
    "    * 우리 샘플의 대출과 관련된 Home Credit에서 이전에 지출된 크레딧에 대한 상환 내역\n",
    "    * a) 모든 지불에 대해 하나의 행이 있고 b) 누락된 지불에 대해 각각 하나의 행이 존재\n",
    "    * 한 행은 한 번의 분할 지불에 해당하거나 샘플의 대출과 관련된 이전 주택 신용 크레딧의 한 번의 지불에 해당\n",
    "    \n",
    "* HomeCredit_columns_description.csv\n",
    "    * 이 파일에는 다양한 데이터 파일의 열에 대한 설명이 포함"
   ]
  },
  {
   "cell_type": "markdown",
   "id": "03b84b68",
   "metadata": {},
   "source": [
    "<img src = \"https://storage.googleapis.com/kaggle-media/competitions/home-credit/home_credit.png\">"
   ]
  },
  {
   "cell_type": "markdown",
   "id": "8acf966b",
   "metadata": {},
   "source": [
    "## 평가방법(Metric) - AUC-ROC curve"
   ]
  },
  {
   "cell_type": "code",
   "execution_count": null,
   "id": "27910719",
   "metadata": {},
   "outputs": [],
   "source": []
  }
 ],
 "metadata": {
  "kernelspec": {
   "display_name": "Python 3 (ipykernel)",
   "language": "python",
   "name": "python3"
  },
  "language_info": {
   "codemirror_mode": {
    "name": "ipython",
    "version": 3
   },
   "file_extension": ".py",
   "mimetype": "text/x-python",
   "name": "python",
   "nbconvert_exporter": "python",
   "pygments_lexer": "ipython3",
   "version": "3.9.7"
  },
  "toc": {
   "base_numbering": 1,
   "nav_menu": {},
   "number_sections": true,
   "sideBar": true,
   "skip_h1_title": false,
   "title_cell": "Table of Contents",
   "title_sidebar": "Contents",
   "toc_cell": false,
   "toc_position": {},
   "toc_section_display": true,
   "toc_window_display": false
  },
  "varInspector": {
   "cols": {
    "lenName": 16,
    "lenType": 16,
    "lenVar": 40
   },
   "kernels_config": {
    "python": {
     "delete_cmd_postfix": "",
     "delete_cmd_prefix": "del ",
     "library": "var_list.py",
     "varRefreshCmd": "print(var_dic_list())"
    },
    "r": {
     "delete_cmd_postfix": ") ",
     "delete_cmd_prefix": "rm(",
     "library": "var_list.r",
     "varRefreshCmd": "cat(var_dic_list()) "
    }
   },
   "types_to_exclude": [
    "module",
    "function",
    "builtin_function_or_method",
    "instance",
    "_Feature"
   ],
   "window_display": false
  }
 },
 "nbformat": 4,
 "nbformat_minor": 5
}
